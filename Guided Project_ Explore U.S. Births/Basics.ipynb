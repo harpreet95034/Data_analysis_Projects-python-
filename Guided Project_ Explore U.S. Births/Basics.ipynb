{
 "cells": [
  {
   "cell_type": "code",
   "execution_count": 6,
   "metadata": {
    "collapsed": false
   },
   "outputs": [],
   "source": [
    "\n",
    "def read_csv(S):\n",
    "    f= open(S,'r')\n",
    "    data = f.read()\n",
    "    data_list = data.split(\"\\n\")\n",
    "    string_list = data_list[1:-1]\n",
    "    #print(d)\n",
    "    #for i in d :\n",
    "    final_list = []\n",
    "    for i in string_list :\n",
    "        int_fields = []\n",
    "        string_fields = i.split(',')\n",
    "        for y in string_fields :\n",
    "            x = int(y)\n",
    "            int_fields.append(x)\n",
    "        final_list.append(int_fields) \n",
    "        for x in final_list:\n",
    "            \n",
    "\n",
    "    return final_list"
   ]
  },
  {
   "cell_type": "code",
   "execution_count": 11,
   "metadata": {
    "collapsed": false
   },
   "outputs": [
    {
     "name": "stdout",
     "output_type": "stream",
     "text": [
      "[[1994, 1, 1, 6, 8096], [1994, 1, 2, 7, 7772], [1994, 1, 3, 1, 10142], [1994, 1, 4, 2, 11248], [1994, 1, 5, 3, 11053], [1994, 1, 6, 4, 11406], [1994, 1, 7, 5, 11251], [1994, 1, 8, 6, 8653], [1994, 1, 9, 7, 7910], [1994, 1, 10, 1, 10498]]\n"
     ]
    }
   ],
   "source": [
    "\n",
    "cdc_list = read_csv(\"US_births_1994-2003_CDC_NCHS.csv\")\n",
    "print(cdc_list[:10])\n",
    "\n",
    "    \n",
    "\n",
    "    "
   ]
  },
  {
   "cell_type": "code",
   "execution_count": 12,
   "metadata": {
    "collapsed": false
   },
   "outputs": [
    {
     "name": "stdout",
     "output_type": "stream",
     "text": [
      "{1: 1276557, 2: 1288739, 3: 1304499, 4: 1288154, 5: 1299953, 6: 1304474, 7: 1310459, 8: 1312297, 9: 1303292, 10: 1320764, 11: 1314361, 12: 1318437, 13: 1277684, 14: 1320153, 15: 1319171, 16: 1315192, 17: 1324953, 18: 1326855, 19: 1318727, 20: 1324821, 21: 1322897, 22: 1317381, 23: 1293290, 24: 1288083, 25: 1272116, 26: 1284796, 27: 1294395, 28: 1307685, 29: 1223161, 30: 1202095, 31: 734322}\n"
     ]
    }
   ],
   "source": [
    "def month_births(l) :\n",
    "    births_per_month = {}\n",
    "    for i in l :\n",
    "        month =i[2]\n",
    "        births = i[4]\n",
    "        if month in births_per_month :\n",
    "            births_per_month[month] = births_per_month[month]+births\n",
    "        else :\n",
    "            births_per_month[month] = births \n",
    "    return births_per_month\n",
    "\n",
    "cdc_month_births = month_births(cdc_list)\n",
    "print(cdc_month_births)"
   ]
  },
  {
   "cell_type": "code",
   "execution_count": 13,
   "metadata": {
    "collapsed": false
   },
   "outputs": [
    {
     "name": "stdout",
     "output_type": "stream",
     "text": [
      "{1: 5789166, 2: 6446196, 3: 6310481, 4: 6288429, 5: 6233657, 6: 4562111, 7: 4079723}\n"
     ]
    }
   ],
   "source": [
    "def dow_births(l) :\n",
    "    births_per_month = {}\n",
    "    for i in l :\n",
    "        month =i[3]\n",
    "        births = i[4]\n",
    "        if month in births_per_month :\n",
    "            births_per_month[month] = births_per_month[month]+births\n",
    "        else :\n",
    "            births_per_month[month] = births \n",
    "    return births_per_month\n",
    "\n",
    "cdc_day_births = dow_births(cdc_list)\n",
    "print(cdc_day_births)"
   ]
  },
  {
   "cell_type": "code",
   "execution_count": 21,
   "metadata": {
    "collapsed": false
   },
   "outputs": [
    {
     "name": "stdout",
     "output_type": "stream",
     "text": [
      "{2000: 4058814, 2001: 4025933, 2002: 4021726, 2003: 4077576, 1994: 3952767, 1995: 3899589, 1996: 3891494, 1997: 3880894, 1998: 3941553, 1999: 3959417}\n"
     ]
    }
   ],
   "source": [
    "def calc_counts(data, column):\n",
    "    births_per_month = {}\n",
    "    if column==3 :\n",
    "        for i in data :\n",
    "            month =i[column]\n",
    "            births = i[4]\n",
    "            if month in births_per_month :\n",
    "                births_per_month[month] = births_per_month[month]+births\n",
    "            else :\n",
    "                births_per_month[month] = births \n",
    "        return births_per_month\n",
    "    if column==2:\n",
    "        for i in data :\n",
    "            month =i[column]\n",
    "            births = i[4]\n",
    "            if month in births_per_month :\n",
    "                births_per_month[month] = births_per_month[month]+births\n",
    "            else :\n",
    "                births_per_month[month] = births \n",
    "        return births_per_month\n",
    "    if column==1:\n",
    "        for i in data :\n",
    "            month =i[column]\n",
    "            births = i[4]\n",
    "            if month in births_per_month :\n",
    "                births_per_month[month] = births_per_month[month]+births\n",
    "            else :\n",
    "                births_per_month[month] = births \n",
    "        return births_per_month\n",
    "    if column == 0 :\n",
    "        for i in data :\n",
    "            month =i[column]\n",
    "            births = i[4]\n",
    "            if month in births_per_month :\n",
    "                births_per_month[month] = births_per_month[month]+births\n",
    "            else :\n",
    "                births_per_month[month] = births \n",
    "        return births_per_month\n",
    "    \n",
    "cdc_year_births = calc_counts(cdc_list,0)\n",
    "print(cdc_year_births)\n",
    "\n",
    "cdc_month_births = calc_counts(cdc_list,1)\n",
    "#print(cdc_month_births)\n",
    "\n",
    "cdc_dom_births = calc_counts(cdc_list,2)\n",
    "#print(cdc_dom_births)\n",
    "\n",
    "cdc_dow_births = calc_counts(cdc_list,3)\n",
    "#print(cdc_dow_births)"
   ]
  },
  {
   "cell_type": "code",
   "execution_count": null,
   "metadata": {
    "collapsed": true
   },
   "outputs": [],
   "source": []
  }
 ],
 "metadata": {
  "anaconda-cloud": {},
  "kernelspec": {
   "display_name": "Python 3",
   "language": "python",
   "name": "python3"
  },
  "language_info": {
   "codemirror_mode": {
    "name": "ipython",
    "version": 3
   },
   "file_extension": ".py",
   "mimetype": "text/x-python",
   "name": "python",
   "nbconvert_exporter": "python",
   "pygments_lexer": "ipython3",
   "version": "3.4.3"
  }
 },
 "nbformat": 4,
 "nbformat_minor": 1
}
